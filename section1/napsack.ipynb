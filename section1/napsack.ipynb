{
 "cells": [
  {
   "cell_type": "code",
   "execution_count": 1,
   "metadata": {},
   "outputs": [],
   "source": [
    "import pulp\n",
    "import numpy as np"
   ]
  },
  {
   "cell_type": "code",
   "execution_count": 4,
   "metadata": {},
   "outputs": [
    {
     "name": "stdout",
     "output_type": "stream",
     "text": [
      "Welcome to the CBC MILP Solver \n",
      "Version: 2.10.3 \n",
      "Build Date: Dec 15 2019 \n",
      "\n",
      "command line - /workspaces/optimization_learning/.venv/lib/python3.12/site-packages/pulp/solverdir/cbc/linux/64/cbc /tmp/1c8c67e86e914c709ff6c7653dc78bf6-pulp.mps -max -timeMode elapsed -branch -printingOptions all -solution /tmp/1c8c67e86e914c709ff6c7653dc78bf6-pulp.sol (default strategy 1)\n",
      "At line 2 NAME          MODEL\n",
      "At line 3 ROWS\n",
      "At line 10 COLUMNS\n",
      "At line 31 RHS\n",
      "At line 37 BOUNDS\n",
      "At line 42 ENDATA\n",
      "Problem MODEL has 5 rows, 4 columns and 8 elements\n",
      "Coin0008I MODEL read with 0 errors\n",
      "Option for timeMode changed from cpu to elapsed\n",
      "Continuous objective value is 17.5714 - 0.00 seconds\n",
      "Cgl0003I 3 fixed, 0 tightened bounds, 0 strengthened rows, 0 substitutions\n",
      "Cgl0004I processed model has 0 rows, 0 columns (0 integer (0 of which binary)) and 0 elements\n",
      "Cbc3007W No integer variables - nothing to do\n",
      "Cuts at root node changed objective from -17 to -1.79769e+308\n",
      "Probing was tried 0 times and created 0 cuts of which 0 were active after adding rounds of cuts (0.000 seconds)\n",
      "Gomory was tried 0 times and created 0 cuts of which 0 were active after adding rounds of cuts (0.000 seconds)\n",
      "Knapsack was tried 0 times and created 0 cuts of which 0 were active after adding rounds of cuts (0.000 seconds)\n",
      "Clique was tried 0 times and created 0 cuts of which 0 were active after adding rounds of cuts (0.000 seconds)\n",
      "MixedIntegerRounding2 was tried 0 times and created 0 cuts of which 0 were active after adding rounds of cuts (0.000 seconds)\n",
      "FlowCover was tried 0 times and created 0 cuts of which 0 were active after adding rounds of cuts (0.000 seconds)\n",
      "TwoMirCuts was tried 0 times and created 0 cuts of which 0 were active after adding rounds of cuts (0.000 seconds)\n",
      "ZeroHalf was tried 0 times and created 0 cuts of which 0 were active after adding rounds of cuts (0.000 seconds)\n",
      "\n",
      "Result - Optimal solution found\n",
      "\n",
      "Objective value:                17.00000000\n",
      "Enumerated nodes:               0\n",
      "Total iterations:               0\n",
      "Time (CPU seconds):             0.00\n",
      "Time (Wallclock seconds):       0.00\n",
      "\n",
      "Option for printingOptions changed from normal to all\n",
      "Total time (CPU seconds):       0.00   (Wallclock seconds):       0.00\n",
      "\n",
      "Status: Optimal\n"
     ]
    }
   ],
   "source": [
    "# Define the problem\n",
    "\n",
    "#問題設定\n",
    "prob = pulp.LpProblem(\"problem\", pulp.LpMaximize)\n",
    "\n",
    "#変数\n",
    "a = pulp.LpVariable('a', lowBound=0, cat='Integer')\n",
    "b = pulp.LpVariable('b', lowBound=0, cat='Integer')\n",
    "c = pulp.LpVariable('c', lowBound=0, cat='Integer')\n",
    "d = pulp.LpVariable('d', lowBound=0, cat='Integer')\n",
    "\n",
    "# 目的関数\n",
    "prob += 3*a + 7 * b + 6 *c + 8* d\n",
    "\n",
    "# 制約条件\n",
    "prob += a <= 1\n",
    "prob += b <= 1\n",
    "prob += c <= 1\n",
    "prob += d <= 1\n",
    "prob += 3 * a + 6 * b + 5 * c + 7 * d ==15\n",
    "\n",
    "# Solve the problem\n",
    "status = prob.solve()\n",
    "\n",
    "# Print the results of the optimization \n",
    "print(\"Status:\", pulp.LpStatus[status])\n",
    "\n"
   ]
  },
  {
   "cell_type": "code",
   "execution_count": 5,
   "metadata": {},
   "outputs": [
    {
     "name": "stdout",
     "output_type": "stream",
     "text": [
      "a: 1.0\n",
      "b: 0.0\n",
      "c: 1.0\n",
      "d: 1.0\n",
      "objective: 17.0\n"
     ]
    }
   ],
   "source": [
    "print(\"a:\", a.varValue)\n",
    "print(\"b:\", b.varValue) \n",
    "print(\"c:\", c.varValue)\n",
    "print(\"d:\", d.varValue)\n",
    "print(\"objective:\", pulp.value(prob.objective))"
   ]
  },
  {
   "cell_type": "code",
   "execution_count": null,
   "metadata": {},
   "outputs": [],
   "source": []
  }
 ],
 "metadata": {
  "kernelspec": {
   "display_name": ".venv",
   "language": "python",
   "name": "python3"
  },
  "language_info": {
   "codemirror_mode": {
    "name": "ipython",
    "version": 3
   },
   "file_extension": ".py",
   "mimetype": "text/x-python",
   "name": "python",
   "nbconvert_exporter": "python",
   "pygments_lexer": "ipython3",
   "version": "3.12.1"
  }
 },
 "nbformat": 4,
 "nbformat_minor": 2
}
