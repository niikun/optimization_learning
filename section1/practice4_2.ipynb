{
 "cells": [
  {
   "cell_type": "code",
   "execution_count": 1,
   "metadata": {},
   "outputs": [],
   "source": [
    "import pulp\n",
    "import numpy as np\n",
    "import matplotlib.pyplot as plt"
   ]
  },
  {
   "cell_type": "code",
   "execution_count": 4,
   "metadata": {},
   "outputs": [
    {
     "name": "stdout",
     "output_type": "stream",
     "text": [
      "Welcome to the CBC MILP Solver \n",
      "Version: 2.10.3 \n",
      "Build Date: Dec 15 2019 \n",
      "\n",
      "command line - /workspaces/optimization_learning/.venv/lib/python3.12/site-packages/pulp/solverdir/cbc/linux/64/cbc /tmp/a2099cca80a141458b329b7392b3c16f-pulp.mps -timeMode elapsed -branch -printingOptions all -solution /tmp/a2099cca80a141458b329b7392b3c16f-pulp.sol (default strategy 1)\n",
      "At line 2 NAME          MODEL\n",
      "At line 3 ROWS\n",
      "At line 10 COLUMNS\n",
      "At line 29 RHS\n",
      "At line 35 BOUNDS\n",
      "At line 36 ENDATA\n",
      "Problem MODEL has 5 rows, 6 columns and 12 elements\n",
      "Coin0008I MODEL read with 0 errors\n",
      "Option for timeMode changed from cpu to elapsed\n",
      "Presolve 5 (0) rows, 6 (0) columns and 12 (0) elements\n",
      "0  Obj 0 Primal inf 59.999999 (5)\n",
      "4  Obj 186\n",
      "Optimal - objective value 186\n",
      "Optimal objective 186 - 4 iterations time 0.002\n",
      "Option for printingOptions changed from normal to all\n",
      "Total time (CPU seconds):       0.00   (Wallclock seconds):       0.00\n",
      "\n",
      "Optimal\n"
     ]
    }
   ],
   "source": [
    "# Define the problem\n",
    "prob = pulp.LpProblem(\"minimum_cost\", pulp.LpMinimize)\n",
    "\n",
    "# Define the variables\n",
    "xa = pulp.LpVariable(\"xa\", lowBound=0, cat='Continuous')\n",
    "xb = pulp.LpVariable(\"xb\", lowBound=0, cat='Continuous')\n",
    "xc = pulp.LpVariable(\"xc\", lowBound=0, cat='Continuous')\n",
    "ya = pulp.LpVariable(\"ya\", lowBound=0, cat='Continuous')\n",
    "yb = pulp.LpVariable(\"yb\", lowBound=0, cat='Continuous')\n",
    "yc = pulp.LpVariable(\"yc\", lowBound=0, cat='Continuous')\n",
    "\n",
    "# Define the objective function\n",
    "prob += 5 * xa + 6 * xb + 16 * xc + 8 * ya + 8 * yb + 4 * yc\n",
    "\n",
    "# Define the constraints\n",
    "prob += xa + xb + xc >= 10\n",
    "prob += ya + yb + yc >= 20\n",
    "prob += xa + ya >= 14\n",
    "prob += xb + yb >= 10\n",
    "prob += xc + yc >= 6\n",
    "\n",
    "# Solve the problem\n",
    "status = prob.solve()\n",
    "print(pulp.LpStatus[status])"
   ]
  },
  {
   "cell_type": "code",
   "execution_count": 5,
   "metadata": {},
   "outputs": [
    {
     "name": "stdout",
     "output_type": "stream",
     "text": [
      "Status: Optimal\n",
      "xa: 10.0\n",
      "xb: 0.0\n",
      "xc: 0.0\n",
      "ya: 4.0\n",
      "yb: 10.0\n",
      "yc: 6.0\n",
      "Minimum cost: 186.0\n"
     ]
    }
   ],
   "source": [
    "# Print the results\n",
    "print(\"Status:\", pulp.LpStatus[status])\n",
    "print(\"xa:\", xa.varValue)\n",
    "print(\"xb:\", xb.varValue)\n",
    "print(\"xc:\", xc.varValue)\n",
    "print(\"ya:\", ya.varValue)   \n",
    "print(\"yb:\", yb.varValue)\n",
    "print(\"yc:\", yc.varValue)\n",
    "print(\"Minimum cost:\", pulp.value(prob.objective))"
   ]
  },
  {
   "cell_type": "code",
   "execution_count": null,
   "metadata": {},
   "outputs": [],
   "source": []
  }
 ],
 "metadata": {
  "kernelspec": {
   "display_name": ".venv",
   "language": "python",
   "name": "python3"
  },
  "language_info": {
   "codemirror_mode": {
    "name": "ipython",
    "version": 3
   },
   "file_extension": ".py",
   "mimetype": "text/x-python",
   "name": "python",
   "nbconvert_exporter": "python",
   "pygments_lexer": "ipython3",
   "version": "3.12.1"
  }
 },
 "nbformat": 4,
 "nbformat_minor": 2
}
