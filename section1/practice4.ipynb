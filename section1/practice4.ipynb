{
 "cells": [
  {
   "cell_type": "code",
   "execution_count": 1,
   "metadata": {},
   "outputs": [],
   "source": [
    "import pulp\n",
    "import numpy as np\n",
    "import matplotlib.pyplot as plt"
   ]
  },
  {
   "cell_type": "code",
   "execution_count": 3,
   "metadata": {},
   "outputs": [
    {
     "name": "stdout",
     "output_type": "stream",
     "text": [
      "Welcome to the CBC MILP Solver \n",
      "Version: 2.10.3 \n",
      "Build Date: Dec 15 2019 \n",
      "\n",
      "command line - /workspaces/optimization_learning/.venv/lib/python3.12/site-packages/pulp/solverdir/cbc/linux/64/cbc /tmp/a54e468532944aee9d6fabacbe8a177a-pulp.mps -timeMode elapsed -branch -printingOptions all -solution /tmp/a54e468532944aee9d6fabacbe8a177a-pulp.sol (default strategy 1)\n",
      "At line 2 NAME          MODEL\n",
      "At line 3 ROWS\n",
      "At line 10 COLUMNS\n",
      "At line 41 RHS\n",
      "At line 47 BOUNDS\n",
      "At line 54 ENDATA\n",
      "Problem MODEL has 5 rows, 6 columns and 12 elements\n",
      "Coin0008I MODEL read with 0 errors\n",
      "Option for timeMode changed from cpu to elapsed\n",
      "Continuous objective value is 196 - 0.00 seconds\n",
      "Cgl0003I 0 fixed, 6 tightened bounds, 0 strengthened rows, 0 substitutions\n",
      "Cgl0004I processed model has 5 rows, 6 columns (6 integer (0 of which binary)) and 12 elements\n",
      "Cutoff increment increased from 1e-05 to 0.9999\n",
      "Cbc0012I Integer solution of 196 found by greedy cover after 0 iterations and 0 nodes (0.00 seconds)\n",
      "Cbc0001I Search completed - best objective 196, took 0 iterations and 0 nodes (0.00 seconds)\n",
      "Cbc0035I Maximum depth 0, 0 variables fixed on reduced cost\n",
      "Cuts at root node changed objective from 196 to 196\n",
      "Probing was tried 0 times and created 0 cuts of which 0 were active after adding rounds of cuts (0.000 seconds)\n",
      "Gomory was tried 0 times and created 0 cuts of which 0 were active after adding rounds of cuts (0.000 seconds)\n",
      "Knapsack was tried 0 times and created 0 cuts of which 0 were active after adding rounds of cuts (0.000 seconds)\n",
      "Clique was tried 0 times and created 0 cuts of which 0 were active after adding rounds of cuts (0.000 seconds)\n",
      "MixedIntegerRounding2 was tried 0 times and created 0 cuts of which 0 were active after adding rounds of cuts (0.000 seconds)\n",
      "FlowCover was tried 0 times and created 0 cuts of which 0 were active after adding rounds of cuts (0.000 seconds)\n",
      "TwoMirCuts was tried 0 times and created 0 cuts of which 0 were active after adding rounds of cuts (0.000 seconds)\n",
      "ZeroHalf was tried 0 times and created 0 cuts of which 0 were active after adding rounds of cuts (0.000 seconds)\n",
      "\n",
      "Result - Optimal solution found\n",
      "\n",
      "Objective value:                196.00000000\n",
      "Enumerated nodes:               0\n",
      "Total iterations:               0\n",
      "Time (CPU seconds):             0.00\n",
      "Time (Wallclock seconds):       0.00\n",
      "\n",
      "Option for printingOptions changed from normal to all\n",
      "Total time (CPU seconds):       0.00   (Wallclock seconds):       0.00\n",
      "\n",
      "Optimal\n"
     ]
    }
   ],
   "source": [
    "# Define the problem\n",
    "prob = pulp.LpProblem(\"minimum_cost\", pulp.LpMinimize)\n",
    "\n",
    "# Define the variables\n",
    "xa = pulp.LpVariable(\"xa\", lowBound=0, cat='Integer')\n",
    "xb = pulp.LpVariable(\"xb\", lowBound=0, cat='Integer')\n",
    "xc = pulp.LpVariable(\"xc\", lowBound=0, cat='Integer')\n",
    "ya = pulp.LpVariable(\"ya\", lowBound=0, cat='Integer')\n",
    "yb = pulp.LpVariable(\"yb\", lowBound=0, cat='Integer')\n",
    "yc = pulp.LpVariable(\"yc\", lowBound=0, cat='Integer')\n",
    "\n",
    "# Define the objective function\n",
    "prob += 5 * xa + 6 * xb + 16 * xc + 8 * ya + 10 * yb + 4 * yc\n",
    "\n",
    "# Define the constraints\n",
    "prob += xa + xb + xc >= 10\n",
    "prob += ya + yb + yc >= 20\n",
    "prob += xa + ya >= 14\n",
    "prob += xb + yb >= 10\n",
    "prob += xc + yc >= 6\n",
    "\n",
    "# Solve the problem\n",
    "status = prob.solve()\n",
    "print(pulp.LpStatus[status])"
   ]
  },
  {
   "cell_type": "code",
   "execution_count": 4,
   "metadata": {},
   "outputs": [
    {
     "name": "stdout",
     "output_type": "stream",
     "text": [
      "Status: Optimal\n",
      "xa: 0.0\n",
      "xb: 10.0\n",
      "xc: 0.0\n",
      "ya: 14.0\n",
      "yb: 0.0\n",
      "yc: 6.0\n",
      "Minimum cost: 196.0\n"
     ]
    }
   ],
   "source": [
    "# Print the results\n",
    "print(\"Status:\", pulp.LpStatus[status])\n",
    "print(\"xa:\", xa.varValue)\n",
    "print(\"xb:\", xb.varValue)\n",
    "print(\"xc:\", xc.varValue)\n",
    "print(\"ya:\", ya.varValue)   \n",
    "print(\"yb:\", yb.varValue)\n",
    "print(\"yc:\", yc.varValue)\n",
    "print(\"Minimum cost:\", pulp.value(prob.objective))"
   ]
  },
  {
   "cell_type": "code",
   "execution_count": null,
   "metadata": {},
   "outputs": [],
   "source": []
  }
 ],
 "metadata": {
  "kernelspec": {
   "display_name": ".venv",
   "language": "python",
   "name": "python3"
  },
  "language_info": {
   "codemirror_mode": {
    "name": "ipython",
    "version": 3
   },
   "file_extension": ".py",
   "mimetype": "text/x-python",
   "name": "python",
   "nbconvert_exporter": "python",
   "pygments_lexer": "ipython3",
   "version": "3.12.1"
  }
 },
 "nbformat": 4,
 "nbformat_minor": 2
}
