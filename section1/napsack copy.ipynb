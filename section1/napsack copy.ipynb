{
 "cells": [
  {
   "cell_type": "code",
   "execution_count": 2,
   "metadata": {},
   "outputs": [],
   "source": [
    "import pulp\n",
    "import numpy as np"
   ]
  },
  {
   "cell_type": "code",
   "execution_count": 3,
   "metadata": {},
   "outputs": [
    {
     "name": "stdout",
     "output_type": "stream",
     "text": [
      "Welcome to the CBC MILP Solver \n",
      "Version: 2.10.3 \n",
      "Build Date: Dec 15 2019 \n",
      "\n",
      "command line - /workspaces/optimization_learning/.venv/lib/python3.12/site-packages/pulp/solverdir/cbc/linux/64/cbc /tmp/dcae147f95a44612b82274e68abe650b-pulp.mps -max -timeMode elapsed -branch -printingOptions all -solution /tmp/dcae147f95a44612b82274e68abe650b-pulp.sol (default strategy 1)\n",
      "At line 2 NAME          MODEL\n",
      "At line 3 ROWS\n",
      "At line 6 COLUMNS\n",
      "At line 23 RHS\n",
      "At line 25 BOUNDS\n",
      "At line 30 ENDATA\n",
      "Problem MODEL has 1 rows, 4 columns and 4 elements\n",
      "Coin0008I MODEL read with 0 errors\n",
      "Option for timeMode changed from cpu to elapsed\n",
      "Continuous objective value is 18.1429 - 0.00 seconds\n",
      "Cgl0003I 0 fixed, 0 tightened bounds, 1 strengthened rows, 0 substitutions\n",
      "Cgl0004I processed model has 1 rows, 4 columns (4 integer (4 of which binary)) and 4 elements\n",
      "Cutoff increment increased from 1e-05 to 0.9999\n",
      "Cbc0038I Initial state - 0 integers unsatisfied sum - 2.22045e-16\n",
      "Cbc0038I Solution found of -18\n",
      "Cbc0038I Before mini branch and bound, 4 integers at bound fixed and 0 continuous\n",
      "Cbc0038I Mini branch and bound did not improve solution (0.00 seconds)\n",
      "Cbc0038I After 0.00 seconds - Feasibility pump exiting with objective of -18 - took 0.00 seconds\n",
      "Cbc0012I Integer solution of -18 found by feasibility pump after 0 iterations and 0 nodes (0.00 seconds)\n",
      "Cbc0001I Search completed - best objective -18, took 0 iterations and 0 nodes (0.00 seconds)\n",
      "Cbc0035I Maximum depth 0, 0 variables fixed on reduced cost\n",
      "Cuts at root node changed objective from -18 to -18\n",
      "Probing was tried 0 times and created 0 cuts of which 0 were active after adding rounds of cuts (0.000 seconds)\n",
      "Gomory was tried 0 times and created 0 cuts of which 0 were active after adding rounds of cuts (0.000 seconds)\n",
      "Knapsack was tried 0 times and created 0 cuts of which 0 were active after adding rounds of cuts (0.000 seconds)\n",
      "Clique was tried 0 times and created 0 cuts of which 0 were active after adding rounds of cuts (0.000 seconds)\n",
      "MixedIntegerRounding2 was tried 0 times and created 0 cuts of which 0 were active after adding rounds of cuts (0.000 seconds)\n",
      "FlowCover was tried 0 times and created 0 cuts of which 0 were active after adding rounds of cuts (0.000 seconds)\n",
      "TwoMirCuts was tried 0 times and created 0 cuts of which 0 were active after adding rounds of cuts (0.000 seconds)\n",
      "ZeroHalf was tried 0 times and created 0 cuts of which 0 were active after adding rounds of cuts (0.000 seconds)\n",
      "\n",
      "Result - Optimal solution found\n",
      "\n",
      "Objective value:                18.00000000\n",
      "Enumerated nodes:               0\n",
      "Total iterations:               0\n",
      "Time (CPU seconds):             0.00\n",
      "Time (Wallclock seconds):       0.00\n",
      "\n",
      "Option for printingOptions changed from normal to all\n",
      "Total time (CPU seconds):       0.00   (Wallclock seconds):       0.00\n",
      "\n",
      "Result\n",
      "Status: Optimal\n",
      "Optimal value: 18.0\n",
      "Variables:\n",
      "a = 1.0\n",
      "b = 0.0\n",
      "c = 1.0\n",
      "d = 1.0\n"
     ]
    }
   ],
   "source": [
    "# Define the problem\n",
    "\n",
    "#問題設定\n",
    "prob = pulp.LpProblem(\"problem\", pulp.LpMaximize)\n",
    "\n",
    "\n",
    "list_item = ['a', 'b', 'c', 'd']\n",
    "list_weight = [3,6,5,7]\n",
    "list_value = [4,7,6,8]\n",
    "\n",
    "capatity = 15 #重量制約\n",
    "\n",
    "# 変数\n",
    "list_x = [pulp.LpVariable(f\"{item}\",cat=\"Binary\") for item in list_item]\n",
    "\n",
    "\n",
    "# 目的関数\n",
    "prob += pulp.lpSum([list_x[i]*list_value[i] for i in range(len(list_item))])\n",
    "\n",
    "# 制約条件\n",
    "total_weight = pulp.lpSum([list_x[i]*list_weight[i] for i in range(len(list_item))])\n",
    "prob += total_weight <= capatity\n",
    "\n",
    "# Solve the problem\n",
    "status = prob.solve()\n",
    "\n",
    "\n"
   ]
  },
  {
   "cell_type": "code",
   "execution_count": 4,
   "metadata": {},
   "outputs": [
    {
     "name": "stdout",
     "output_type": "stream",
     "text": [
      "Result\n",
      "Status: Optimal\n",
      "Optimal value: 18.0\n",
      "Variables:\n",
      "a = 1.0\n",
      "b = 0.0\n",
      "c = 1.0\n",
      "d = 1.0\n"
     ]
    }
   ],
   "source": [
    "# Print the results of the optimization \n",
    "print(\"Result\")\n",
    "print(\"Status:\", pulp.LpStatus[status])\n",
    "print(\"Optimal value:\", pulp.value(prob.objective))\n",
    "print(\"Variables:\")\n",
    "for v in prob.variables():\n",
    "    print(v.name, \"=\", v.varValue)"
   ]
  },
  {
   "cell_type": "code",
   "execution_count": null,
   "metadata": {},
   "outputs": [],
   "source": []
  }
 ],
 "metadata": {
  "kernelspec": {
   "display_name": ".venv",
   "language": "python",
   "name": "python3"
  },
  "language_info": {
   "codemirror_mode": {
    "name": "ipython",
    "version": 3
   },
   "file_extension": ".py",
   "mimetype": "text/x-python",
   "name": "python",
   "nbconvert_exporter": "python",
   "pygments_lexer": "ipython3",
   "version": "3.12.1"
  }
 },
 "nbformat": 4,
 "nbformat_minor": 2
}
